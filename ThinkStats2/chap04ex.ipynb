{
 "cells": [
  {
   "cell_type": "markdown",
   "metadata": {},
   "source": [
    "Exercise from Think Stats, 2nd Edition (thinkstats2.com)<br>\n",
    "Allen Downey\n",
    "\n",
    "Read the pregnancy file."
   ]
  },
  {
   "cell_type": "code",
   "execution_count": 30,
   "metadata": {
    "collapsed": false
   },
   "outputs": [],
   "source": [
    "%matplotlib inline\n",
    "\n",
    "import nsfg\n",
    "import thinkstats2\n",
    "import thinkplot\n",
    "import random\n",
    "\n",
    "preg = nsfg.ReadFemPreg()"
   ]
  },
  {
   "cell_type": "markdown",
   "metadata": {},
   "source": [
    "Select live births, then make a CDF of <tt>totalwgt_lb</tt>. "
   ]
  },
  {
   "cell_type": "code",
   "execution_count": 6,
   "metadata": {
    "collapsed": false
   },
   "outputs": [
    {
     "data": {
      "text/plain": [
       "Cdf([  0.125    0.3125   0.4375   0.5625   0.625    0.9375   1.       1.0625\n",
       "   1.125    1.1875   1.25     1.3125   1.375    1.4375   1.5      1.5625\n",
       "   1.625    1.6875   1.75     1.8125   1.875    2.       2.0625   2.125\n",
       "   2.1875   2.25     2.3125   2.375    2.4375   2.5      2.5625   2.6875\n",
       "   2.75     2.8125   2.875    2.9375   3.       3.0625   3.125    3.25\n",
       "   3.3125   3.375    3.4375   3.5      3.5625   3.625    3.6875   3.75\n",
       "   3.8125   3.875    3.9375   4.       4.0625   4.125    4.1875   4.25\n",
       "   4.3125   4.375    4.4375   4.5      4.5625   4.625    4.6875   4.75\n",
       "   4.8125   4.875    4.9375   5.       5.0625   5.125    5.1875   5.25\n",
       "   5.3125   5.375    5.4375   5.5      5.5625   5.625    5.6875   5.75\n",
       "   5.8125   5.875    5.9375   6.       6.0625   6.125    6.1875   6.25\n",
       "   6.3125   6.375    6.4375   6.5      6.5625   6.625    6.6875   6.75\n",
       "   6.8125   6.875    6.9375   7.       7.0625   7.125    7.1875   7.25\n",
       "   7.3125   7.375    7.4375   7.5      7.5625   7.625    7.6875   7.75\n",
       "   7.8125   7.875    7.9375   8.       8.0625   8.125    8.1875   8.25\n",
       "   8.3125   8.375    8.4375   8.5      8.5625   8.625    8.6875   8.75\n",
       "   8.8125   8.875    8.9375   9.       9.0625   9.125    9.1875   9.25\n",
       "   9.3125   9.375    9.4375   9.5      9.5625   9.625    9.6875   9.75\n",
       "   9.8125   9.875    9.9375  10.      10.0625  10.125   10.1875  10.25\n",
       "  10.3125  10.375   10.4375  10.5     10.5625  10.625   10.6875  10.75\n",
       "  10.8125  10.875   10.9375  11.      11.0625  11.125   11.1875  11.375\n",
       "  11.4375  11.5     11.5625  11.625   11.6875  11.75    11.9375  12.\n",
       "  12.1875  12.375   12.5     13.      13.5     13.75    14.      15.4375], [  1.10643948e-04   2.21287896e-04   3.31931843e-04   4.42575791e-04\n",
       "   6.63863687e-04   7.74507634e-04   8.85151582e-04   1.21708343e-03\n",
       "   1.43837132e-03   1.54901527e-03   1.77030316e-03   2.10223501e-03\n",
       "   2.76609869e-03   2.87674264e-03   3.31931843e-03   3.65125028e-03\n",
       "   4.20447002e-03   4.31511396e-03   4.75768975e-03   4.86833370e-03\n",
       "   5.20026555e-03   5.64284134e-03   6.08541713e-03   6.41734897e-03\n",
       "   7.19185661e-03   7.63443240e-03   8.07700819e-03   8.40894003e-03\n",
       "   8.74087187e-03   9.29409161e-03   9.51537951e-03   9.95795530e-03\n",
       "   1.01792432e-02   1.05111750e-02   1.07324629e-02   1.10643948e-02\n",
       "   1.31666298e-02   1.37198495e-02   1.47156451e-02   1.57114406e-02\n",
       "   1.63753043e-02   1.73710998e-02   1.81456074e-02   1.84775393e-02\n",
       "   1.86988272e-02   1.90307590e-02   1.95839788e-02   2.01371985e-02\n",
       "   2.06904182e-02   2.13542819e-02   2.19075017e-02   2.52268201e-02\n",
       "   2.64439035e-02   2.78822748e-02   2.98738659e-02   3.02057977e-02\n",
       "   3.17548130e-02   3.38570480e-02   3.49634875e-02   3.65125028e-02\n",
       "   3.78402301e-02   3.96105333e-02   4.17127683e-02   4.34830715e-02\n",
       "   4.52533746e-02   4.56959504e-02   4.70236778e-02   5.38836026e-02\n",
       "   5.56539057e-02   6.04115955e-02   6.40628458e-02   6.83779597e-02\n",
       "   7.15866342e-02   8.04381500e-02   8.37574685e-02   8.87364461e-02\n",
       "   9.31622040e-02   9.69240983e-02   1.03341447e-01   1.07545917e-01\n",
       "   1.13078115e-01   1.18278380e-01   1.23589290e-01   1.44611640e-01\n",
       "   1.53131224e-01   1.66297854e-01   1.80792211e-01   1.93848197e-01\n",
       "   2.10666077e-01   2.24053994e-01   2.42642177e-01   2.63443240e-01\n",
       "   2.79707900e-01   2.93317106e-01   3.08696614e-01   3.25957070e-01\n",
       "   3.42774950e-01   3.57601239e-01   3.68554990e-01   4.01858818e-01\n",
       "   4.16685107e-01   4.40362912e-01   4.57070148e-01   4.77539279e-01\n",
       "   4.96791326e-01   5.28324851e-01   5.44146935e-01   5.77561407e-01\n",
       "   5.92830272e-01   6.08320425e-01   6.32662093e-01   6.56007966e-01\n",
       "   6.71387475e-01   6.90418234e-01   7.03916796e-01   7.33237442e-01\n",
       "   7.45518920e-01   7.60566497e-01   7.73622483e-01   7.86899757e-01\n",
       "   7.98959947e-01   8.14228812e-01   8.26289002e-01   8.40672715e-01\n",
       "   8.54392565e-01   8.66342111e-01   8.73976543e-01   8.84266431e-01\n",
       "   8.94777606e-01   9.04514273e-01   9.12038062e-01   9.24872759e-01\n",
       "   9.29077229e-01   9.33834919e-01   9.40141624e-01   9.44124806e-01\n",
       "   9.47886701e-01   9.52312459e-01   9.54967913e-01   9.60500111e-01\n",
       "   9.63930073e-01   9.68245187e-01   9.71896437e-01   9.74551892e-01\n",
       "   9.76875415e-01   9.78645718e-01   9.80637309e-01   9.84067272e-01\n",
       "   9.84952423e-01   9.86944014e-01   9.88271742e-01   9.89267537e-01\n",
       "   9.90263333e-01   9.90705908e-01   9.90927196e-01   9.92254924e-01\n",
       "   9.92586855e-01   9.93029431e-01   9.93914583e-01   9.94246515e-01\n",
       "   9.94799734e-01   9.95131666e-01   9.95242310e-01   9.96238106e-01\n",
       "   9.96348750e-01   9.96570038e-01   9.96901969e-01   9.97012613e-01\n",
       "   9.97233901e-01   9.97344545e-01   9.97565833e-01   9.97676477e-01\n",
       "   9.97787121e-01   9.98008409e-01   9.98119053e-01   9.98672273e-01\n",
       "   9.98893561e-01   9.99114848e-01   9.99225492e-01   9.99336136e-01\n",
       "   9.99446780e-01   9.99557424e-01   9.99889356e-01   1.00000000e+00])"
      ]
     },
     "execution_count": 6,
     "metadata": {},
     "output_type": "execute_result"
    }
   ],
   "source": [
    "live = preg[preg.outcome == 1]\n",
    "firsts = live[live.birthord == 1]\n",
    "others = live[live.birthord != 1]\n",
    "cdf = thinkstats2.Cdf(live.totalwgt_lb)\n",
    "cdf"
   ]
  },
  {
   "cell_type": "markdown",
   "metadata": {},
   "source": [
    "Display the CDF."
   ]
  },
  {
   "cell_type": "code",
   "execution_count": 11,
   "metadata": {
    "collapsed": false
   },
   "outputs": [
    {
     "data": {
      "image/png": "[encoded data removed]",
      "text/plain": [
       "<matplotlib.figure.Figure at 0x125d28cd0>"
      ]
     },
     "metadata": {},
     "output_type": "display_data"
    },
    {
     "data": {
      "text/plain": [
       "<matplotlib.figure.Figure at 0x117feb390>"
      ]
     },
     "metadata": {},
     "output_type": "display_data"
    }
   ],
   "source": [
    "thinkplot.Cdf(cdf, label='totalwgt_lb')\n",
    "thinkplot.Show(xlabel=\"Weight in pounds\", ylabel=\"CDF\")"
   ]
  },
  {
   "cell_type": "markdown",
   "metadata": {},
   "source": [
    "Find out how much you weighed at birth, if you can, and compute CDF(x). "
   ]
  },
  {
   "cell_type": "markdown",
   "metadata": {
    "collapsed": false
   },
   "source": [
    "I am not exactly sure how much I weighted but I will go ahead and assume around 7lbs. Therefore,"
   ]
  },
  {
   "cell_type": "code",
   "execution_count": 13,
   "metadata": {
    "collapsed": false
   },
   "outputs": [
    {
     "name": "stdout",
     "output_type": "stream",
     "text": [
      "0.401858818323\n"
     ]
    }
   ],
   "source": [
    "my_weight = 7\n",
    "print cdf.Prob(my_weight)"
   ]
  },
  {
   "cell_type": "markdown",
   "metadata": {},
   "source": [
    "If you are a first child, look up your birthweight in the CDF of first children; otherwise use the CDF of other children."
   ]
  },
  {
   "cell_type": "markdown",
   "metadata": {},
   "source": [
    "Yeap, I am the first child, therefore I can apply my birth weight."
   ]
  },
  {
   "cell_type": "code",
   "execution_count": 14,
   "metadata": {
    "collapsed": false
   },
   "outputs": [
    {
     "name": "stdout",
     "output_type": "stream",
     "text": [
      "0.418060967224\n"
     ]
    }
   ],
   "source": [
    "firsts_cdf = thinkstats2.Cdf(firsts.totalwgt_lb)\n",
    "print firsts_cdf.Prob(my_weight)"
   ]
  },
  {
   "cell_type": "markdown",
   "metadata": {},
   "source": [
    "Compute the percentile rank of your birthweight"
   ]
  },
  {
   "cell_type": "code",
   "execution_count": 22,
   "metadata": {
    "collapsed": false
   },
   "outputs": [
    {
     "data": {
      "text/plain": [
       "39.70266724967206"
      ]
     },
     "execution_count": 22,
     "metadata": {},
     "output_type": "execute_result"
    }
   ],
   "source": [
    "count = 0\n",
    "for i in live.totalwgt_lb:\n",
    "    if  i<=my_weight:\n",
    "        count+=1\n",
    "res_portion = 1.0*count/len(live.totalwgt_lb)\n",
    "res = res_portion*100.0\n",
    "res"
   ]
  },
  {
   "cell_type": "markdown",
   "metadata": {},
   "source": [
    "Compute the median birth weight by looking up the value associated with p=0.5."
   ]
  },
  {
   "cell_type": "code",
   "execution_count": 16,
   "metadata": {
    "collapsed": false
   },
   "outputs": [
    {
     "data": {
      "text/plain": [
       "7.375"
      ]
     },
     "execution_count": 16,
     "metadata": {},
     "output_type": "execute_result"
    }
   ],
   "source": [
    "cdf.Percentile(50)"
   ]
  },
  {
   "cell_type": "markdown",
   "metadata": {},
   "source": [
    "Compute the interquartile range (IQR) by computing percentiles corresponding to 25 and 75. "
   ]
  },
  {
   "cell_type": "code",
   "execution_count": 17,
   "metadata": {
    "collapsed": false
   },
   "outputs": [
    {
     "data": {
      "text/plain": [
       "1.625"
      ]
     },
     "execution_count": 17,
     "metadata": {},
     "output_type": "execute_result"
    }
   ],
   "source": [
    "IQR = cdf.Percentile(75) - cdf.Percentile(25)\n",
    "IQR"
   ]
  },
  {
   "cell_type": "markdown",
   "metadata": {},
   "source": [
    "Make a random selection from <tt>cdf</tt>."
   ]
  },
  {
   "cell_type": "code",
   "execution_count": 18,
   "metadata": {
    "collapsed": false
   },
   "outputs": [
    {
     "data": {
      "text/plain": [
       "9.75"
      ]
     },
     "execution_count": 18,
     "metadata": {},
     "output_type": "execute_result"
    }
   ],
   "source": [
    "random_sel = cdf.Random()\n",
    "random_sel"
   ]
  },
  {
   "cell_type": "markdown",
   "metadata": {},
   "source": [
    "Draw a random sample from <tt>cdf</tt>."
   ]
  },
  {
   "cell_type": "code",
   "execution_count": 19,
   "metadata": {
    "collapsed": false
   },
   "outputs": [
    {
     "name": "stdout",
     "output_type": "stream",
     "text": [
      "[ 8.125   8.625   6.1875  8.3125  5.375   7.4375  8.75    6.375   7.      8.\n",
      "  5.      6.5625  4.375   6.5     9.3125  6.9375  8.1875  7.125   5.25\n",
      "  7.9375  7.8125  5.875   6.75    9.5     3.25  ]\n"
     ]
    }
   ],
   "source": [
    "print cdf.Sample(25)"
   ]
  },
  {
   "cell_type": "markdown",
   "metadata": {},
   "source": [
    "Draw a random sample from <tt>cdf</tt>, then compute the percentile rank for each value, and plot the distribution of the percentile ranks."
   ]
  },
  {
   "cell_type": "code",
   "execution_count": 29,
   "metadata": {
    "collapsed": false
   },
   "outputs": [
    {
     "data": {
      "image/png": "[encoded data removed]",
      "text/plain": [
       "<matplotlib.figure.Figure at 0x11b7ced50>"
      ]
     },
     "metadata": {},
     "output_type": "display_data"
    },
    {
     "data": {
      "text/plain": [
       "<matplotlib.figure.Figure at 0x125e25490>"
      ]
     },
     "metadata": {},
     "output_type": "display_data"
    }
   ],
   "source": [
    "random_sample = cdf.Sample(25)\n",
    "lst = []\n",
    "\n",
    "for s in random_sample:\n",
    "    count = 0\n",
    "    for i in live.totalwgt_lb:\n",
    "        if  i<=s:\n",
    "            count+=1\n",
    "    res_portion = 1.0*count/len(live.totalwgt_lb)\n",
    "    res = res_portion*100.0\n",
    "    lst.append(res)\n",
    "\n",
    "thinkplot.Hist(thinkstats2.Hist(lst))\n",
    "thinkplot.Show()"
   ]
  },
  {
   "cell_type": "markdown",
   "metadata": {},
   "source": [
    "Generate 1000 random values using <tt>random.random()</tt> and plot their PMF."
   ]
  },
  {
   "cell_type": "code",
   "execution_count": 32,
   "metadata": {
    "collapsed": false
   },
   "outputs": [
    {
     "data": {
      "image/png": "[encoded data removed]",
      "text/plain": [
       "<matplotlib.figure.Figure at 0x125cd7790>"
      ]
     },
     "metadata": {},
     "output_type": "display_data"
    },
    {
     "data": {
      "text/plain": [
       "<matplotlib.figure.Figure at 0x118ff9b50>"
      ]
     },
     "metadata": {},
     "output_type": "display_data"
    }
   ],
   "source": [
    "lst_random = []\n",
    "for i in range(1000):\n",
    "    lst_random.append(random.random())\n",
    "\n",
    "thinkplot.Pmf(thinkstats2.Pmf(lst_random))\n",
    "thinkplot.Show()"
   ]
  },
  {
   "cell_type": "markdown",
   "metadata": {},
   "source": [
    "Assuming that the PMF doesn't work very well, try plotting the CDF instead."
   ]
  },
  {
   "cell_type": "code",
   "execution_count": 33,
   "metadata": {
    "collapsed": false
   },
   "outputs": [
    {
     "data": {
      "image/png": "[encoded data removed]",
      "text/plain": [
       "<matplotlib.figure.Figure at 0x125e75d10>"
      ]
     },
     "metadata": {},
     "output_type": "display_data"
    },
    {
     "data": {
      "text/plain": [
       "<matplotlib.figure.Figure at 0x125cf5310>"
      ]
     },
     "metadata": {},
     "output_type": "display_data"
    }
   ],
   "source": [
    "thinkplot.Cdf(thinkstats2.Cdf(lst_random))\n",
    "thinkplot.Show()"
   ]
  },
  {
   "cell_type": "markdown",
   "metadata": {
    "collapsed": false
   },
   "source": [
    "### Clarifying Questions\n",
    "\n",
    "Use this space to ask questions regarding the content covered in the reading. These questions should be restricted to helping you better understand the material. For questions that push beyond what is in the reading, use the next answer field. If you don't have a fully formed question, but are generally having a difficult time with a topic, you can indicate that here as well."
   ]
  },
  {
   "cell_type": "markdown",
   "metadata": {},
   "source": []
  },
  {
   "cell_type": "markdown",
   "metadata": {},
   "source": [
    "### Enrichment Questions\n",
    "\n",
    "Use this space to ask any questions that go beyond (but are related to) the material presented in this reading. Perhaps there is a particular topic you'd like to see covered in more depth. Perhaps you'd like to know how to use a library in a way that wasn't show in the reading. One way to think about this is what additional topics would you want covered in the next class (or addressed in a followup e-mail to the class). I'm a little fuzzy on what stuff will likely go here, so we'll see how things evolve."
   ]
  },
  {
   "cell_type": "markdown",
   "metadata": {},
   "source": []
  },
  {
   "cell_type": "markdown",
   "metadata": {},
   "source": [
    "### Additional Resources / Explorations\n",
    "\n",
    "If you found any useful resources, or tried some useful exercises that you'd like to report please do so here. Let us know what you did, what you learned, and how others can replicate it."
   ]
  },
  {
   "cell_type": "markdown",
   "metadata": {},
   "source": []
  }
 ],
 "metadata": {
  "kernelspec": {
   "display_name": "Python 2",
   "language": "python",
   "name": "python2"
  },
  "language_info": {
   "codemirror_mode": {
    "name": "ipython",
    "version": 2
   },
   "file_extension": ".py",
   "mimetype": "text/x-python",
   "name": "python",
   "nbconvert_exporter": "python",
   "pygments_lexer": "ipython2",
   "version": "2.7.11"
  }
 },
 "nbformat": 4,
 "nbformat_minor": 0
}
